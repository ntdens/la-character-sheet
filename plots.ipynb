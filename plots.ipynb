{
 "cells": [
  {
   "cell_type": "code",
   "execution_count": 1,
   "metadata": {},
   "outputs": [],
   "source": [
    "import firebase_admin\n",
    "from firebase_admin import credentials, db, storage\n",
    "from math import floor, sqrt\n",
    "import ast\n",
    "import smtplib\n",
    "import plotly.express as px\n",
    "import pandas as pd\n",
    "import json\n",
    "import streamlit as st\n",
    "import plotly.graph_objects as go"
   ]
  },
  {
   "cell_type": "code",
   "execution_count": 2,
   "metadata": {},
   "outputs": [],
   "source": [
    "faction_list = [\n",
    "    \"🧝 Unaffilated\",\n",
    "    \"🏴 Blackthorne Company\",\n",
    "    \"💰 Guild of the Black Sky\",\n",
    "    \"🛡 Eponore\",\n",
    "    \"⚜️ Catalpa\",\n",
    "    \"🍷 Cedar Hill\",\n",
    "    \"🧛‍♂️ The Dismissed\",\n",
    "    \"💀 Geth\",\n",
    "    \"❄️ Grimfrost\",\n",
    "    \"🌳 The Grove\",\n",
    "    \"🌙 The Irregulars\",\n",
    "    \"⚖️ The Order\",\n",
    "    \"🎪 Prismatic Troupe\",\n",
    "    \"⚔️ Sunsteel Company\",\n",
    "    \"🦁 Kult of Tharros\",\n",
    "    \"🐴 Vidarian Khanate\",\n",
    "    \"🏹 The Wardens\",\n",
    "    \"🕊️ The White Ravens \"\n",
    "]\n",
    "\n",
    "path_list = [\n",
    "    '🗡 Warrior',\n",
    "    '🪤 Rogue',\n",
    "    '🩹 Healer',\n",
    "    '🔮 Wizard'\n",
    "]\n",
    "\n",
    "def get_tier(events):\n",
    "    return floor((sqrt(8*events)-1)/2)\n",
    "\n",
    "if not firebase_admin._apps:\n",
    "    key_dict = json.loads(st.secrets[\"firebase\"], strict=False)\n",
    "    creds = credentials.Certificate(key_dict)\n",
    "    defualt_app = firebase_admin.initialize_app(creds, {\n",
    "        'databaseURL': 'https://la-character-sheets-default-rtdb.firebaseio.com',\n",
    "        'storageBucket':'la-character-sheets.appspot.com'\n",
    "    })"
   ]
  },
  {
   "cell_type": "code",
   "execution_count": 3,
   "metadata": {},
   "outputs": [
    {
     "ename": "KeyError",
     "evalue": "'name'",
     "output_type": "error",
     "traceback": [
      "\u001b[1;31m---------------------------------------------------------------------------\u001b[0m",
      "\u001b[1;31mKeyError\u001b[0m                                  Traceback (most recent call last)",
      "Cell \u001b[1;32mIn[3], line 20\u001b[0m\n\u001b[0;32m     15\u001b[0m         tier \u001b[38;5;241m=\u001b[39m \u001b[38;5;241m0\u001b[39m\n\u001b[0;32m     16\u001b[0m         avail_points \u001b[38;5;241m=\u001b[39m skill_points\n\u001b[0;32m     18\u001b[0m     user_table\u001b[38;5;241m.\u001b[39mappend({\n\u001b[0;32m     19\u001b[0m         \u001b[38;5;124m'\u001b[39m\u001b[38;5;124mUsername\u001b[39m\u001b[38;5;124m'\u001b[39m:key,\n\u001b[1;32m---> 20\u001b[0m         \u001b[38;5;124m'\u001b[39m\u001b[38;5;124mPlayer\u001b[39m\u001b[38;5;124m'\u001b[39m:\u001b[43muser_data\u001b[49m\u001b[43m[\u001b[49m\u001b[43mkey\u001b[49m\u001b[43m]\u001b[49m\u001b[43m[\u001b[49m\u001b[38;5;124;43m'\u001b[39;49m\u001b[38;5;124;43mname\u001b[39;49m\u001b[38;5;124;43m'\u001b[39;49m\u001b[43m]\u001b[49m,\n\u001b[0;32m     21\u001b[0m         \u001b[38;5;124m'\u001b[39m\u001b[38;5;124mCharacter\u001b[39m\u001b[38;5;124m'\u001b[39m:user_data[key][\u001b[38;5;124m'\u001b[39m\u001b[38;5;124mcharacter_name\u001b[39m\u001b[38;5;124m'\u001b[39m],\n\u001b[0;32m     22\u001b[0m         \u001b[38;5;124m'\u001b[39m\u001b[38;5;124mFaction\u001b[39m\u001b[38;5;124m'\u001b[39m:user_data[key][\u001b[38;5;124m'\u001b[39m\u001b[38;5;124mfaction\u001b[39m\u001b[38;5;124m'\u001b[39m],\n\u001b[0;32m     23\u001b[0m         \u001b[38;5;124m'\u001b[39m\u001b[38;5;124mPath\u001b[39m\u001b[38;5;124m'\u001b[39m:user_data[key][\u001b[38;5;124m'\u001b[39m\u001b[38;5;124mpath\u001b[39m\u001b[38;5;124m'\u001b[39m],\n\u001b[0;32m     24\u001b[0m         \u001b[38;5;124m'\u001b[39m\u001b[38;5;124mTier\u001b[39m\u001b[38;5;124m'\u001b[39m:tier,\n\u001b[0;32m     25\u001b[0m         \u001b[38;5;124m'\u001b[39m\u001b[38;5;124mEarned Points\u001b[39m\u001b[38;5;124m'\u001b[39m:skill_points,\n\u001b[0;32m     26\u001b[0m         \u001b[38;5;124m\"\u001b[39m\u001b[38;5;124mAvailable Points\u001b[39m\u001b[38;5;124m\"\u001b[39m:avail_points\n\u001b[0;32m     27\u001b[0m     })\n\u001b[0;32m     28\u001b[0m user_df \u001b[38;5;241m=\u001b[39m pd\u001b[38;5;241m.\u001b[39mDataFrame(user_table)\n",
      "\u001b[1;31mKeyError\u001b[0m: 'name'"
     ]
    }
   ],
   "source": [
    "user_data = db.reference(\"users/\").get()\n",
    "user_table = []\n",
    "for key in user_data.keys():\n",
    "    try:\n",
    "        user_events = pd.DataFrame(json.loads(user_data[key]['event_info']))\n",
    "        user_events.reset_index(drop=True, inplace=True)\n",
    "        tier = get_tier(len(user_events[user_events['Event Type'] != \"🪚 Work Weekend\"]))\n",
    "        skill_points = int(user_events[\"Skill Points\"].sum())\n",
    "        try:\n",
    "            avail_points = int(user_events[\"Skill Points\"].sum()) - int(user_data[key]['point_spend'])\n",
    "        except:\n",
    "            avail_points = skill_points\n",
    "    except:\n",
    "        skill_points = 0\n",
    "        tier = 0\n",
    "        avail_points = skill_points\n",
    "\n",
    "    user_table.append({\n",
    "        'Username':key,\n",
    "        'Player':user_data[key]['name'],\n",
    "        'Character':user_data[key]['character_name'],\n",
    "        'Faction':user_data[key]['faction'],\n",
    "        'Path':user_data[key]['path'],\n",
    "        'Tier':tier,\n",
    "        'Earned Points':skill_points,\n",
    "        \"Available Points\":avail_points\n",
    "    })\n",
    "user_df = pd.DataFrame(user_table)"
   ]
  },
  {
   "cell_type": "code",
   "execution_count": null,
   "metadata": {},
   "outputs": [
    {
     "data": {
      "text/html": [
       "<div>\n",
       "<style scoped>\n",
       "    .dataframe tbody tr th:only-of-type {\n",
       "        vertical-align: middle;\n",
       "    }\n",
       "\n",
       "    .dataframe tbody tr th {\n",
       "        vertical-align: top;\n",
       "    }\n",
       "\n",
       "    .dataframe thead th {\n",
       "        text-align: right;\n",
       "    }\n",
       "</style>\n",
       "<table border=\"1\" class=\"dataframe\">\n",
       "  <thead>\n",
       "    <tr style=\"text-align: right;\">\n",
       "      <th></th>\n",
       "      <th>Username</th>\n",
       "      <th>Player</th>\n",
       "      <th>Character</th>\n",
       "      <th>Faction</th>\n",
       "      <th>Path</th>\n",
       "      <th>Tier</th>\n",
       "      <th>Earned Points</th>\n",
       "      <th>Available Points</th>\n",
       "    </tr>\n",
       "  </thead>\n",
       "  <tbody>\n",
       "    <tr>\n",
       "      <th>0</th>\n",
       "      <td>caenis_macneary</td>\n",
       "      <td>Niki Hunter</td>\n",
       "      <td>Caenis MacNeary</td>\n",
       "      <td>🎪 Prismatic Troupe</td>\n",
       "      <td>🗡 Warrior</td>\n",
       "      <td>4</td>\n",
       "      <td>28</td>\n",
       "      <td>0</td>\n",
       "    </tr>\n",
       "    <tr>\n",
       "      <th>1</th>\n",
       "      <td>ghostfox</td>\n",
       "      <td>Kara</td>\n",
       "      <td>Elora</td>\n",
       "      <td>🎪 Prismatic Troupe</td>\n",
       "      <td>🕳 Rogue</td>\n",
       "      <td>0</td>\n",
       "      <td>1</td>\n",
       "      <td>1</td>\n",
       "    </tr>\n",
       "    <tr>\n",
       "      <th>2</th>\n",
       "      <td>ntdens</td>\n",
       "      <td>Nate Densmore</td>\n",
       "      <td>Kython</td>\n",
       "      <td>🎪 Prismatic Troupe</td>\n",
       "      <td>🩸 Healer</td>\n",
       "      <td>5</td>\n",
       "      <td>43</td>\n",
       "      <td>11</td>\n",
       "    </tr>\n",
       "  </tbody>\n",
       "</table>\n",
       "</div>"
      ],
      "text/plain": [
       "          Username         Player        Character             Faction  \\\n",
       "0  caenis_macneary    Niki Hunter  Caenis MacNeary  🎪 Prismatic Troupe   \n",
       "1         ghostfox           Kara            Elora  🎪 Prismatic Troupe   \n",
       "2           ntdens  Nate Densmore           Kython  🎪 Prismatic Troupe   \n",
       "\n",
       "        Path  Tier  Earned Points  Available Points  \n",
       "0  🗡 Warrior     4             28                 0  \n",
       "1    🕳 Rogue     0              1                 1  \n",
       "2   🩸 Healer     5             43                11  "
      ]
     },
     "execution_count": 4,
     "metadata": {},
     "output_type": "execute_result"
    }
   ],
   "source": [
    "user_df"
   ]
  },
  {
   "cell_type": "code",
   "execution_count": null,
   "metadata": {},
   "outputs": [
    {
     "data": {
      "application/vnd.plotly.v1+json": {
       "config": {
        "plotlyServerURL": "https://plot.ly"
       },
       "data": [
        {
         "type": "bar",
         "x": [
          0,
          1,
          2,
          3,
          4,
          5,
          6,
          7,
          8,
          9,
          10
         ],
         "y": [
          1,
          0,
          0,
          0,
          1,
          1,
          0,
          0,
          0,
          0,
          0
         ]
        }
       ],
       "layout": {
        "template": {
         "data": {
          "candlestick": [
           {
            "decreasing": {
             "line": {
              "color": "#000033"
             }
            },
            "increasing": {
             "line": {
              "color": "#000032"
             }
            },
            "type": "candlestick"
           }
          ],
          "contour": [
           {
            "colorscale": [
             [
              0,
              "#000011"
             ],
             [
              0.1111111111111111,
              "#000012"
             ],
             [
              0.2222222222222222,
              "#000013"
             ],
             [
              0.3333333333333333,
              "#000014"
             ],
             [
              0.4444444444444444,
              "#000015"
             ],
             [
              0.5555555555555556,
              "#000016"
             ],
             [
              0.6666666666666666,
              "#000017"
             ],
             [
              0.7777777777777778,
              "#000018"
             ],
             [
              0.8888888888888888,
              "#000019"
             ],
             [
              1,
              "#000020"
             ]
            ],
            "type": "contour"
           }
          ],
          "contourcarpet": [
           {
            "colorscale": [
             [
              0,
              "#000011"
             ],
             [
              0.1111111111111111,
              "#000012"
             ],
             [
              0.2222222222222222,
              "#000013"
             ],
             [
              0.3333333333333333,
              "#000014"
             ],
             [
              0.4444444444444444,
              "#000015"
             ],
             [
              0.5555555555555556,
              "#000016"
             ],
             [
              0.6666666666666666,
              "#000017"
             ],
             [
              0.7777777777777778,
              "#000018"
             ],
             [
              0.8888888888888888,
              "#000019"
             ],
             [
              1,
              "#000020"
             ]
            ],
            "type": "contourcarpet"
           }
          ],
          "heatmap": [
           {
            "colorscale": [
             [
              0,
              "#000011"
             ],
             [
              0.1111111111111111,
              "#000012"
             ],
             [
              0.2222222222222222,
              "#000013"
             ],
             [
              0.3333333333333333,
              "#000014"
             ],
             [
              0.4444444444444444,
              "#000015"
             ],
             [
              0.5555555555555556,
              "#000016"
             ],
             [
              0.6666666666666666,
              "#000017"
             ],
             [
              0.7777777777777778,
              "#000018"
             ],
             [
              0.8888888888888888,
              "#000019"
             ],
             [
              1,
              "#000020"
             ]
            ],
            "type": "heatmap"
           }
          ],
          "histogram2d": [
           {
            "colorscale": [
             [
              0,
              "#000011"
             ],
             [
              0.1111111111111111,
              "#000012"
             ],
             [
              0.2222222222222222,
              "#000013"
             ],
             [
              0.3333333333333333,
              "#000014"
             ],
             [
              0.4444444444444444,
              "#000015"
             ],
             [
              0.5555555555555556,
              "#000016"
             ],
             [
              0.6666666666666666,
              "#000017"
             ],
             [
              0.7777777777777778,
              "#000018"
             ],
             [
              0.8888888888888888,
              "#000019"
             ],
             [
              1,
              "#000020"
             ]
            ],
            "type": "histogram2d"
           }
          ],
          "icicle": [
           {
            "textfont": {
             "color": "white"
            },
            "type": "icicle"
           }
          ],
          "sankey": [
           {
            "textfont": {
             "color": "#000036"
            },
            "type": "sankey"
           }
          ],
          "scatter": [
           {
            "marker": {
             "line": {
              "width": 0
             }
            },
            "type": "scatter"
           }
          ],
          "table": [
           {
            "cells": {
             "fill": {
              "color": "#000038"
             },
             "font": {
              "color": "#000037"
             },
             "line": {
              "color": "#000039"
             }
            },
            "header": {
             "fill": {
              "color": "#000040"
             },
             "font": {
              "color": "#000036"
             },
             "line": {
              "color": "#000039"
             }
            },
            "type": "table"
           }
          ],
          "waterfall": [
           {
            "connector": {
             "line": {
              "color": "#000036",
              "width": 2
             }
            },
            "decreasing": {
             "marker": {
              "color": "#000033"
             }
            },
            "increasing": {
             "marker": {
              "color": "#000032"
             }
            },
            "totals": {
             "marker": {
              "color": "#000034"
             }
            },
            "type": "waterfall"
           }
          ]
         },
         "layout": {
          "coloraxis": {
           "colorscale": [
            [
             0,
             "#000011"
            ],
            [
             0.1111111111111111,
             "#000012"
            ],
            [
             0.2222222222222222,
             "#000013"
            ],
            [
             0.3333333333333333,
             "#000014"
            ],
            [
             0.4444444444444444,
             "#000015"
            ],
            [
             0.5555555555555556,
             "#000016"
            ],
            [
             0.6666666666666666,
             "#000017"
            ],
            [
             0.7777777777777778,
             "#000018"
            ],
            [
             0.8888888888888888,
             "#000019"
            ],
            [
             1,
             "#000020"
            ]
           ]
          },
          "colorscale": {
           "diverging": [
            [
             0,
             "#000021"
            ],
            [
             0.1,
             "#000022"
            ],
            [
             0.2,
             "#000023"
            ],
            [
             0.3,
             "#000024"
            ],
            [
             0.4,
             "#000025"
            ],
            [
             0.5,
             "#000026"
            ],
            [
             0.6,
             "#000027"
            ],
            [
             0.7,
             "#000028"
            ],
            [
             0.8,
             "#000029"
            ],
            [
             0.9,
             "#000030"
            ],
            [
             1,
             "#000031"
            ]
           ],
           "sequential": [
            [
             0,
             "#000011"
            ],
            [
             0.1111111111111111,
             "#000012"
            ],
            [
             0.2222222222222222,
             "#000013"
            ],
            [
             0.3333333333333333,
             "#000014"
            ],
            [
             0.4444444444444444,
             "#000015"
            ],
            [
             0.5555555555555556,
             "#000016"
            ],
            [
             0.6666666666666666,
             "#000017"
            ],
            [
             0.7777777777777778,
             "#000018"
            ],
            [
             0.8888888888888888,
             "#000019"
            ],
            [
             1,
             "#000020"
            ]
           ],
           "sequentialminus": [
            [
             0,
             "#000011"
            ],
            [
             0.1111111111111111,
             "#000012"
            ],
            [
             0.2222222222222222,
             "#000013"
            ],
            [
             0.3333333333333333,
             "#000014"
            ],
            [
             0.4444444444444444,
             "#000015"
            ],
            [
             0.5555555555555556,
             "#000016"
            ],
            [
             0.6666666666666666,
             "#000017"
            ],
            [
             0.7777777777777778,
             "#000018"
            ],
            [
             0.8888888888888888,
             "#000019"
            ],
            [
             1,
             "#000020"
            ]
           ]
          },
          "colorway": [
           "#000001",
           "#000002",
           "#000003",
           "#000004",
           "#000005",
           "#000006",
           "#000007",
           "#000008",
           "#000009",
           "#000010"
          ]
         }
        }
       }
      }
     },
     "metadata": {},
     "output_type": "display_data"
    }
   ],
   "source": [
    "tier_df = user_df.groupby('Tier').count()['Username']\n",
    "tier_list = pd.DataFrame({'Tier':list(range(0,11))})\n",
    "tier_df = tier_list.merge(tier_df, how='left', on='Tier').fillna(0).rename(columns={'Username':'Players'})\n",
    "go.Figure(go.Bar(x=tier_df['Tier'], y=tier_df['Players']))"
   ]
  },
  {
   "cell_type": "code",
   "execution_count": null,
   "metadata": {},
   "outputs": [],
   "source": [
    "player_events = []\n",
    "for player in user_df['Username']:\n",
    "    try:\n",
    "        user_events = pd.DataFrame(json.loads(user_data[player]['event_info']))\n",
    "        user_events.reset_index(drop=True, inplace=True)\n",
    "        user_events = user_events[user_events['Event Type'] != \"🪚 Work Weekend\"]\n",
    "        try:\n",
    "            user_events['Event Date'] = pd.to_datetime(user_events['Event Date'], format=\"%B %Y\")\n",
    "        except:\n",
    "            pass\n",
    "        try:\n",
    "            user_events['Event Date'] = pd.to_datetime(user_events['Event Date'], unit='ms')\n",
    "        except:\n",
    "            pass\n",
    "        player_events.append(pd.DataFrame({'Date':list(user_events['Event Date']),'Player':player}))\n",
    "    except:\n",
    "        pass"
   ]
  },
  {
   "cell_type": "code",
   "execution_count": null,
   "metadata": {},
   "outputs": [],
   "source": [
    "attend = pd.concat(player_events)\n",
    "attend['Date'] = attend.Date - pd.offsets.MonthEnd(0) - pd.offsets.MonthBegin(1)\n",
    "attend = attend.groupby('Date').count().reset_index()\n",
    "px.line(attend, x='Date', y='Player', title='Attendance Over Time')"
   ]
  },
  {
   "cell_type": "code",
   "execution_count": null,
   "metadata": {},
   "outputs": [],
   "source": [
    "bucket = storage.bucket()"
   ]
  },
  {
   "cell_type": "code",
   "execution_count": null,
   "metadata": {},
   "outputs": [],
   "source": [
    "blob = bucket.blob('ntdens')"
   ]
  },
  {
   "cell_type": "code",
   "execution_count": null,
   "metadata": {},
   "outputs": [],
   "source": [
    "import PIL.Image as Image\n",
    "import io"
   ]
  },
  {
   "cell_type": "code",
   "execution_count": null,
   "metadata": {},
   "outputs": [],
   "source": [
    "image_location = user_data['ntdens']['pic_name']"
   ]
  },
  {
   "cell_type": "code",
   "execution_count": null,
   "metadata": {},
   "outputs": [
    {
     "data": {
      "text/plain": [
       "'ntdens/profile_pic.png'"
      ]
     },
     "execution_count": 84,
     "metadata": {},
     "output_type": "execute_result"
    }
   ],
   "source": [
    "image_location"
   ]
  },
  {
   "cell_type": "code",
   "execution_count": null,
   "metadata": {},
   "outputs": [],
   "source": [
    "for b in bucket.list_blobs(prefix='ntdens'):\n",
    "    if b.name != image_location:\n",
    "        b.delete()"
   ]
  },
  {
   "cell_type": "code",
   "execution_count": null,
   "metadata": {},
   "outputs": [
    {
     "data": {
      "text/plain": [
       "['ntdens', 'caenis_macneary']"
      ]
     },
     "execution_count": 91,
     "metadata": {},
     "output_type": "execute_result"
    }
   ],
   "source": [
    "(st.secrets['admins'] + list(st.secrets['faction_leaders']))"
   ]
  },
  {
   "cell_type": "code",
   "execution_count": null,
   "metadata": {},
   "outputs": [],
   "source": []
  },
  {
   "cell_type": "code",
   "execution_count": null,
   "metadata": {},
   "outputs": [],
   "source": [
    "key = 'ntdens'\n",
    "user_data = db.reference(\"users/\").get()\n",
    "user_auth = db.reference(\"auth\").child('credentials/usernames/').get()\n",
    "tab1, tab2,tab3 = st.tabs(['Player List', 'Character View', 'Event View'])\n",
    "user_table = []\n",
    "for key in user_data.keys():\n",
    "    try:\n",
    "        user_events = pd.DataFrame(json.loads(user_data[key]['event_info']))\n",
    "        user_events.reset_index(drop=True, inplace=True)\n",
    "        tier = get_tier(len(user_events[user_events['Event Type'] != \"🪚 Work Weekend\"]))\n",
    "        skill_points = int(user_events[\"Skill Points\"].sum())\n",
    "        try:\n",
    "            avail_points = int(user_events[\"Skill Points\"].sum()) - int(user_data[key]['point_spend'])\n",
    "        except:\n",
    "            avail_points = skill_points\n",
    "    except:\n",
    "        skill_points = 0\n",
    "        tier = 0\n",
    "        avail_points = skill_points\n",
    "    user_table.append({\n",
    "        'Username':key,\n",
    "        'Player':user_auth[key]['name'],\n",
    "        'Character':user_data[key]['character_name'],\n",
    "        'Faction':user_data[key]['faction'],\n",
    "        'Path':user_data[key]['path'],\n",
    "        'Tier':tier,\n",
    "        'Earned Points':skill_points,\n",
    "        \"Available Points\":avail_points\n",
    "    })"
   ]
  },
  {
   "cell_type": "code",
   "execution_count": null,
   "metadata": {},
   "outputs": [],
   "source": [
    "user_df = pd.DataFrame(user_table)"
   ]
  },
  {
   "cell_type": "code",
   "execution_count": null,
   "metadata": {},
   "outputs": [],
   "source": [
    "character_data = user_data[key]\n",
    "player_data = pd.DataFrame({\n",
    "    'Category': ['Character: ','Player: ','Path: ','Faction: ','Tier: ','Skill Points: '],\n",
    "    'Information': [character_data['character_name'],character_data['name'],character_data['path'],character_data['faction'],user_df[user_df['Username'] == key]['Tier'].values[0],user_df[user_df['Username'] == key]['Available Points'].values[0]]\n",
    "                    })"
   ]
  },
  {
   "cell_type": "code",
   "execution_count": null,
   "metadata": {},
   "outputs": [],
   "source": [
    "import emoji\n",
    "import requests\n",
    "from PIL import Image as ImageCheck\n",
    "from unicodedata import normalize\n",
    "def replace_with_emoji_pdf(text, size):\n",
    "    \"\"\"\n",
    "    Reportlab's Paragraph doesn't accept normal html <image> tag's attributes\n",
    "    like 'class', 'alt'. Its a little hack to remove those attrbs\n",
    "    \"\"\"\n",
    "\n",
    "    for e in emoji.analyze(text):\n",
    "        e_icon = e.chars\n",
    "        try:\n",
    "            emoji_code = \"-\".join(f\"{ord(c):x}\" for c in e_icon)\n",
    "            url = f\"https://raw.githubusercontent.com/twitter/twemoji/master/assets/72x72/{emoji_code}.png\"\n",
    "            im = ImageCheck.open(requests.get(url, stream=True).raw)\n",
    "            text = text.replace(e_icon, '<img height={} width={} src=\"{}\"/>'.format(size, size, url))\n",
    "        except:\n",
    "            emoji_code = [f\"{ord(c):x}\" for c in e_icon][0]\n",
    "            url = f\"https://raw.githubusercontent.com/twitter/twemoji/master/assets/72x72/{emoji_code}.png\"\n",
    "            im = ImageCheck.open(requests.get(url, stream=True).raw)\n",
    "            text = text.replace(e_icon, '<img height={} width={} src=\"{}\"/>'.format(size, size, url))\n",
    "    return normalize('NFKD', text).encode('ascii','ignore')"
   ]
  },
  {
   "cell_type": "code",
   "execution_count": null,
   "metadata": {},
   "outputs": [],
   "source": [
    "df = pd.read_excel('Skills_Table.xlsx')\n",
    "known = user_data['ntdens']['known']\n",
    "known = ast.literal_eval(known)\n",
    "known_data = df[df['Skill Name'].isin(known)]\n",
    "display_data = known_data[['Skill Name', 'Limitations', 'Phys Rep']].drop_duplicates(subset=['Skill Name']).copy()\n",
    "display_data = display_data.fillna('')"
   ]
  },
  {
   "cell_type": "code",
   "execution_count": null,
   "metadata": {},
   "outputs": [
    {
     "data": {
      "text/html": [
       "<div>\n",
       "<style scoped>\n",
       "    .dataframe tbody tr th:only-of-type {\n",
       "        vertical-align: middle;\n",
       "    }\n",
       "\n",
       "    .dataframe tbody tr th {\n",
       "        vertical-align: top;\n",
       "    }\n",
       "\n",
       "    .dataframe thead th {\n",
       "        text-align: right;\n",
       "    }\n",
       "</style>\n",
       "<table border=\"1\" class=\"dataframe\">\n",
       "  <thead>\n",
       "    <tr style=\"text-align: right;\">\n",
       "      <th></th>\n",
       "      <th>Skill Name</th>\n",
       "      <th>Description</th>\n",
       "      <th>Path</th>\n",
       "      <th>Tier</th>\n",
       "      <th>Limitations</th>\n",
       "      <th>Phys Rep</th>\n",
       "      <th>Prerequisite</th>\n",
       "      <th>Spell</th>\n",
       "    </tr>\n",
       "  </thead>\n",
       "  <tbody>\n",
       "    <tr>\n",
       "      <th>0</th>\n",
       "      <td>Basic Weapon Proficiency</td>\n",
       "      <td>Players learn the basic combat and safety rule...</td>\n",
       "      <td>Warrior</td>\n",
       "      <td>0</td>\n",
       "      <td>NaN</td>\n",
       "      <td>NaN</td>\n",
       "      <td>NaN</td>\n",
       "      <td>False</td>\n",
       "    </tr>\n",
       "    <tr>\n",
       "      <th>1</th>\n",
       "      <td>Armor Proficiency</td>\n",
       "      <td>Players learn about the armor that they wear a...</td>\n",
       "      <td>Warrior</td>\n",
       "      <td>0</td>\n",
       "      <td>NaN</td>\n",
       "      <td>NaN</td>\n",
       "      <td>NaN</td>\n",
       "      <td>False</td>\n",
       "    </tr>\n",
       "    <tr>\n",
       "      <th>2</th>\n",
       "      <td>Kindle Flame/Torch</td>\n",
       "      <td>Player gains proficiency at creating normal fi...</td>\n",
       "      <td>Warrior</td>\n",
       "      <td>0</td>\n",
       "      <td>10’ radius</td>\n",
       "      <td>Optional (larp safe electronically lighted tor...</td>\n",
       "      <td>NaN</td>\n",
       "      <td>False</td>\n",
       "    </tr>\n",
       "    <tr>\n",
       "      <th>3</th>\n",
       "      <td>Shield Control</td>\n",
       "      <td>Players learn the art of Shield Control and ma...</td>\n",
       "      <td>Warrior</td>\n",
       "      <td>0</td>\n",
       "      <td>NaN</td>\n",
       "      <td>NaN</td>\n",
       "      <td>NaN</td>\n",
       "      <td>False</td>\n",
       "    </tr>\n",
       "    <tr>\n",
       "      <th>29</th>\n",
       "      <td>Loot</td>\n",
       "      <td>Player gains the ability to loot bodies left o...</td>\n",
       "      <td>Rogue</td>\n",
       "      <td>0</td>\n",
       "      <td>Players cannot [Loot] another player's persona...</td>\n",
       "      <td>Player holds hand over the location being loot...</td>\n",
       "      <td>NaN</td>\n",
       "      <td>False</td>\n",
       "    </tr>\n",
       "    <tr>\n",
       "      <th>30</th>\n",
       "      <td>Detect Trap</td>\n",
       "      <td>Using this ability, Rogues can now see traps l...</td>\n",
       "      <td>Rogue</td>\n",
       "      <td>0</td>\n",
       "      <td>Each search is limited to a single item or are...</td>\n",
       "      <td>Role play, 15 seconds. The player detecting tr...</td>\n",
       "      <td>NaN</td>\n",
       "      <td>False</td>\n",
       "    </tr>\n",
       "    <tr>\n",
       "      <th>31</th>\n",
       "      <td>Shield Training</td>\n",
       "      <td>Rogues gain the ability to safely use small to...</td>\n",
       "      <td>Rogue</td>\n",
       "      <td>0</td>\n",
       "      <td>NaN</td>\n",
       "      <td>NaN</td>\n",
       "      <td>NaN</td>\n",
       "      <td>False</td>\n",
       "    </tr>\n",
       "    <tr>\n",
       "      <th>32</th>\n",
       "      <td>Basic Weapon Proficiency</td>\n",
       "      <td>Players learn the basic combat and safety rule...</td>\n",
       "      <td>Rogue</td>\n",
       "      <td>0</td>\n",
       "      <td>NaN</td>\n",
       "      <td>NaN</td>\n",
       "      <td>NaN</td>\n",
       "      <td>False</td>\n",
       "    </tr>\n",
       "    <tr>\n",
       "      <th>33</th>\n",
       "      <td>Armor Proficiency</td>\n",
       "      <td>Players learn about the armor that they may we...</td>\n",
       "      <td>Rogue</td>\n",
       "      <td>0</td>\n",
       "      <td>NaN</td>\n",
       "      <td>NaN</td>\n",
       "      <td>NaN</td>\n",
       "      <td>False</td>\n",
       "    </tr>\n",
       "    <tr>\n",
       "      <th>34</th>\n",
       "      <td>Kindle Flame/Torch</td>\n",
       "      <td>Player gains proficiency at creating normal fi...</td>\n",
       "      <td>Rogue</td>\n",
       "      <td>0</td>\n",
       "      <td>10’ radius</td>\n",
       "      <td>Optional (larp safe electronically lighted tor...</td>\n",
       "      <td>NaN</td>\n",
       "      <td>False</td>\n",
       "    </tr>\n",
       "    <tr>\n",
       "      <th>68</th>\n",
       "      <td>Read/Write Arcana</td>\n",
       "      <td>Player can decipher magic runes and read magic...</td>\n",
       "      <td>Healer</td>\n",
       "      <td>0</td>\n",
       "      <td>Study, research, and quests may be needed to u...</td>\n",
       "      <td>Rune cipher in spellbook (Elder Futhark is the...</td>\n",
       "      <td>NaN</td>\n",
       "      <td>False</td>\n",
       "    </tr>\n",
       "    <tr>\n",
       "      <th>69</th>\n",
       "      <td>Light</td>\n",
       "      <td>(Spell) Create light equal to 1 torch. Can cou...</td>\n",
       "      <td>Healer</td>\n",
       "      <td>0</td>\n",
       "      <td>10’ radius</td>\n",
       "      <td>10 word spell in spellbook. Optional (lighted ...</td>\n",
       "      <td>NaN</td>\n",
       "      <td>True</td>\n",
       "    </tr>\n",
       "    <tr>\n",
       "      <th>70</th>\n",
       "      <td>Darkness</td>\n",
       "      <td>(Spell) Counters magical light. May be used to...</td>\n",
       "      <td>Healer</td>\n",
       "      <td>0</td>\n",
       "      <td>10’ radius</td>\n",
       "      <td>10 word spell in spellbook. Optional, black cl...</td>\n",
       "      <td>NaN</td>\n",
       "      <td>True</td>\n",
       "    </tr>\n",
       "    <tr>\n",
       "      <th>71</th>\n",
       "      <td>First Aid</td>\n",
       "      <td>Restores use of a wounded limb, but does not h...</td>\n",
       "      <td>Healer</td>\n",
       "      <td>0</td>\n",
       "      <td>This ability is only limited by the number of ...</td>\n",
       "      <td>Bandage or wrap</td>\n",
       "      <td>NaN</td>\n",
       "      <td>False</td>\n",
       "    </tr>\n",
       "    <tr>\n",
       "      <th>72</th>\n",
       "      <td>Sense Blessed/Cursed</td>\n",
       "      <td>(Spell) 10 word spell in spellbook. Can detect...</td>\n",
       "      <td>Healer</td>\n",
       "      <td>0</td>\n",
       "      <td>Single person or object, may be used 3x per da...</td>\n",
       "      <td>NaN</td>\n",
       "      <td>NaN</td>\n",
       "      <td>True</td>\n",
       "    </tr>\n",
       "    <tr>\n",
       "      <th>73</th>\n",
       "      <td>Basic Weapon Proficiency</td>\n",
       "      <td>Players learn the basic combat and safety rule...</td>\n",
       "      <td>Healer</td>\n",
       "      <td>0</td>\n",
       "      <td>NaN</td>\n",
       "      <td>NaN</td>\n",
       "      <td>NaN</td>\n",
       "      <td>False</td>\n",
       "    </tr>\n",
       "    <tr>\n",
       "      <th>74</th>\n",
       "      <td>Armor Proficiency</td>\n",
       "      <td>Players learn about the armor that they wear a...</td>\n",
       "      <td>Healer</td>\n",
       "      <td>0</td>\n",
       "      <td>NaN</td>\n",
       "      <td>NaN</td>\n",
       "      <td>NaN</td>\n",
       "      <td>False</td>\n",
       "    </tr>\n",
       "    <tr>\n",
       "      <th>75</th>\n",
       "      <td>Shield Control</td>\n",
       "      <td>Players learn the art of Shield Control and ma...</td>\n",
       "      <td>Healer</td>\n",
       "      <td>0</td>\n",
       "      <td>NaN</td>\n",
       "      <td>NaN</td>\n",
       "      <td>NaN</td>\n",
       "      <td>False</td>\n",
       "    </tr>\n",
       "    <tr>\n",
       "      <th>76</th>\n",
       "      <td>Kindle Flame/Torch</td>\n",
       "      <td>Player gains proficiency at creating normal fi...</td>\n",
       "      <td>Healer</td>\n",
       "      <td>0</td>\n",
       "      <td>NaN</td>\n",
       "      <td>NaN</td>\n",
       "      <td>NaN</td>\n",
       "      <td>False</td>\n",
       "    </tr>\n",
       "    <tr>\n",
       "      <th>120</th>\n",
       "      <td>Read/Write Arcana</td>\n",
       "      <td>Player can decipher magic runes and read magic...</td>\n",
       "      <td>Mage</td>\n",
       "      <td>0</td>\n",
       "      <td>Study, research, and quests may be needed to u...</td>\n",
       "      <td>Rune cipher in spellbook (Elder Futhark is the...</td>\n",
       "      <td>NaN</td>\n",
       "      <td>False</td>\n",
       "    </tr>\n",
       "    <tr>\n",
       "      <th>121</th>\n",
       "      <td>Light</td>\n",
       "      <td>(Spell) Create light equal to 1 torch. Can cou...</td>\n",
       "      <td>Mage</td>\n",
       "      <td>0</td>\n",
       "      <td>10’ radius</td>\n",
       "      <td>10 word spell in spellbook. Optional (lighted ...</td>\n",
       "      <td>NaN</td>\n",
       "      <td>True</td>\n",
       "    </tr>\n",
       "    <tr>\n",
       "      <th>122</th>\n",
       "      <td>Darkness</td>\n",
       "      <td>(Spell) Counters magical light. May be used to...</td>\n",
       "      <td>Mage</td>\n",
       "      <td>0</td>\n",
       "      <td>10’ radius</td>\n",
       "      <td>10 word spell in spellbook. Optional, black cl...</td>\n",
       "      <td>NaN</td>\n",
       "      <td>True</td>\n",
       "    </tr>\n",
       "    <tr>\n",
       "      <th>123</th>\n",
       "      <td>Sense Arcana</td>\n",
       "      <td>Can sense if an object has arcane properties, ...</td>\n",
       "      <td>Mage</td>\n",
       "      <td>0</td>\n",
       "      <td>Single person or object, may be used 3x per da...</td>\n",
       "      <td>10 word spell in spellbook.</td>\n",
       "      <td>NaN</td>\n",
       "      <td>False</td>\n",
       "    </tr>\n",
       "    <tr>\n",
       "      <th>124</th>\n",
       "      <td>Basic Weapon Proficiency</td>\n",
       "      <td>Players learn the basic combat and safety rule...</td>\n",
       "      <td>Mage</td>\n",
       "      <td>0</td>\n",
       "      <td>NaN</td>\n",
       "      <td>NaN</td>\n",
       "      <td>NaN</td>\n",
       "      <td>False</td>\n",
       "    </tr>\n",
       "    <tr>\n",
       "      <th>125</th>\n",
       "      <td>Kindle Flame/Torch</td>\n",
       "      <td>Player gains proficiency at creating normal fi...</td>\n",
       "      <td>Mage</td>\n",
       "      <td>0</td>\n",
       "      <td>10’ radius</td>\n",
       "      <td>LARP safe light source.</td>\n",
       "      <td>NaN</td>\n",
       "      <td>False</td>\n",
       "    </tr>\n",
       "  </tbody>\n",
       "</table>\n",
       "</div>"
      ],
      "text/plain": [
       "                   Skill Name  \\\n",
       "0    Basic Weapon Proficiency   \n",
       "1           Armor Proficiency   \n",
       "2          Kindle Flame/Torch   \n",
       "3              Shield Control   \n",
       "29                       Loot   \n",
       "30                Detect Trap   \n",
       "31            Shield Training   \n",
       "32   Basic Weapon Proficiency   \n",
       "33          Armor Proficiency   \n",
       "34         Kindle Flame/Torch   \n",
       "68          Read/Write Arcana   \n",
       "69                      Light   \n",
       "70                   Darkness   \n",
       "71                  First Aid   \n",
       "72       Sense Blessed/Cursed   \n",
       "73   Basic Weapon Proficiency   \n",
       "74          Armor Proficiency   \n",
       "75             Shield Control   \n",
       "76         Kindle Flame/Torch   \n",
       "120         Read/Write Arcana   \n",
       "121                     Light   \n",
       "122                  Darkness   \n",
       "123              Sense Arcana   \n",
       "124  Basic Weapon Proficiency   \n",
       "125        Kindle Flame/Torch   \n",
       "\n",
       "                                           Description     Path  Tier  \\\n",
       "0    Players learn the basic combat and safety rule...  Warrior     0   \n",
       "1    Players learn about the armor that they wear a...  Warrior     0   \n",
       "2    Player gains proficiency at creating normal fi...  Warrior     0   \n",
       "3    Players learn the art of Shield Control and ma...  Warrior     0   \n",
       "29   Player gains the ability to loot bodies left o...    Rogue     0   \n",
       "30   Using this ability, Rogues can now see traps l...    Rogue     0   \n",
       "31   Rogues gain the ability to safely use small to...    Rogue     0   \n",
       "32   Players learn the basic combat and safety rule...    Rogue     0   \n",
       "33   Players learn about the armor that they may we...    Rogue     0   \n",
       "34   Player gains proficiency at creating normal fi...    Rogue     0   \n",
       "68   Player can decipher magic runes and read magic...   Healer     0   \n",
       "69   (Spell) Create light equal to 1 torch. Can cou...   Healer     0   \n",
       "70   (Spell) Counters magical light. May be used to...   Healer     0   \n",
       "71   Restores use of a wounded limb, but does not h...   Healer     0   \n",
       "72   (Spell) 10 word spell in spellbook. Can detect...   Healer     0   \n",
       "73   Players learn the basic combat and safety rule...   Healer     0   \n",
       "74   Players learn about the armor that they wear a...   Healer     0   \n",
       "75   Players learn the art of Shield Control and ma...   Healer     0   \n",
       "76   Player gains proficiency at creating normal fi...   Healer     0   \n",
       "120  Player can decipher magic runes and read magic...     Mage     0   \n",
       "121  (Spell) Create light equal to 1 torch. Can cou...     Mage     0   \n",
       "122  (Spell) Counters magical light. May be used to...     Mage     0   \n",
       "123  Can sense if an object has arcane properties, ...     Mage     0   \n",
       "124  Players learn the basic combat and safety rule...     Mage     0   \n",
       "125  Player gains proficiency at creating normal fi...     Mage     0   \n",
       "\n",
       "                                           Limitations  \\\n",
       "0                                                  NaN   \n",
       "1                                                  NaN   \n",
       "2                                           10’ radius   \n",
       "3                                                  NaN   \n",
       "29   Players cannot [Loot] another player's persona...   \n",
       "30   Each search is limited to a single item or are...   \n",
       "31                                                 NaN   \n",
       "32                                                 NaN   \n",
       "33                                                 NaN   \n",
       "34                                          10’ radius   \n",
       "68   Study, research, and quests may be needed to u...   \n",
       "69                                          10’ radius   \n",
       "70                                          10’ radius   \n",
       "71   This ability is only limited by the number of ...   \n",
       "72   Single person or object, may be used 3x per da...   \n",
       "73                                                 NaN   \n",
       "74                                                 NaN   \n",
       "75                                                 NaN   \n",
       "76                                                 NaN   \n",
       "120  Study, research, and quests may be needed to u...   \n",
       "121                                         10’ radius   \n",
       "122                                         10’ radius   \n",
       "123  Single person or object, may be used 3x per da...   \n",
       "124                                                NaN   \n",
       "125                                         10’ radius   \n",
       "\n",
       "                                              Phys Rep Prerequisite  Spell  \n",
       "0                                                  NaN          NaN  False  \n",
       "1                                                  NaN          NaN  False  \n",
       "2    Optional (larp safe electronically lighted tor...          NaN  False  \n",
       "3                                                  NaN          NaN  False  \n",
       "29   Player holds hand over the location being loot...          NaN  False  \n",
       "30   Role play, 15 seconds. The player detecting tr...          NaN  False  \n",
       "31                                                 NaN          NaN  False  \n",
       "32                                                 NaN          NaN  False  \n",
       "33                                                 NaN          NaN  False  \n",
       "34   Optional (larp safe electronically lighted tor...          NaN  False  \n",
       "68   Rune cipher in spellbook (Elder Futhark is the...          NaN  False  \n",
       "69   10 word spell in spellbook. Optional (lighted ...          NaN   True  \n",
       "70   10 word spell in spellbook. Optional, black cl...          NaN   True  \n",
       "71                                     Bandage or wrap          NaN  False  \n",
       "72                                                 NaN          NaN   True  \n",
       "73                                                 NaN          NaN  False  \n",
       "74                                                 NaN          NaN  False  \n",
       "75                                                 NaN          NaN  False  \n",
       "76                                                 NaN          NaN  False  \n",
       "120  Rune cipher in spellbook (Elder Futhark is the...          NaN  False  \n",
       "121  10 word spell in spellbook. Optional (lighted ...          NaN   True  \n",
       "122  10 word spell in spellbook. Optional, black cl...          NaN   True  \n",
       "123                        10 word spell in spellbook.          NaN  False  \n",
       "124                                                NaN          NaN  False  \n",
       "125                            LARP safe light source.          NaN  False  "
      ]
     },
     "execution_count": 12,
     "metadata": {},
     "output_type": "execute_result"
    }
   ],
   "source": [
    "df[df.Tier.between(0,0)]"
   ]
  },
  {
   "cell_type": "code",
   "execution_count": null,
   "metadata": {},
   "outputs": [],
   "source": [
    "user_events = pd.DataFrame(json.loads(user_data['ntdens']['event_info']))\n",
    "user_events.reset_index(drop=True, inplace=True)\n",
    "try:\n",
    "    user_events['Event Date'] = pd.to_datetime(user_events['Event Date'], format=\"%B %Y\").apply(lambda x:x.strftime(\"%B %Y\"))\n",
    "except:\n",
    "    pass\n",
    "try:\n",
    "    user_events['Event Date'] = pd.to_datetime(user_events['Event Date'], unit='ms').apply(lambda x:x.strftime(\"%B %Y\"))\n",
    "except:\n",
    "    pass\n",
    "user_events[['Bonus Skill Points', 'Skill Points']] = user_events[['Bonus Skill Points', 'Skill Points']].astype(int)"
   ]
  },
  {
   "cell_type": "code",
   "execution_count": null,
   "metadata": {},
   "outputs": [],
   "source": []
  },
  {
   "cell_type": "code",
   "execution_count": null,
   "metadata": {},
   "outputs": [],
   "source": [
    "from reportlab.platypus import *\n",
    "from reportlab.lib import colors\n",
    "from reportlab.lib.pagesizes import letter, portrait\n",
    "from reportlab.pdfbase import pdfmetrics\n",
    "from reportlab.pdfbase.ttfonts import TTFont\n",
    "import numpy as np\n",
    "from reportlab.lib.enums import TA_LEFT, TA_CENTER\n",
    "from reportlab.lib.styles import getSampleStyleSheet, ParagraphStyle\n",
    "from reportlab.lib.units import inch\n",
    "PAGE_WIDTH, PAGE_HEIGHT= letter\n",
    "styles = getSampleStyleSheet()\n",
    "\n",
    "PAGESIZE = portrait(letter)\n",
    "\n",
    "font_file = 'SedanSC-Regular.ttf'\n",
    "sedan_font = TTFont('SedanSC', font_file)\n",
    "pdfmetrics.registerFont(sedan_font)\n",
    "\n",
    "\n",
    "Title = \"LARP Adventures Character Sheet\"\n",
    "pageinfo = \"platypus example\"\n",
    "def myFirstPage(canvas, doc):\n",
    "    canvas.saveState()\n",
    "    canvas.drawImage('OLD_PAPER_TEXTURE.jpg',0,0)\n",
    "    canvas.drawImage('la_logo.png', doc.leftMargin, doc.height + doc.bottomMargin + doc.topMargin - 4*cm, 3*cm, 3*cm, mask='auto')\n",
    "    canvas.setFont('SedanSC',16)\n",
    "    canvas.drawCentredString(PAGE_WIDTH/2.0, PAGE_HEIGHT-doc.topMargin, Title)\n",
    "    canvas.setFont('SedanSC',9)\n",
    "    canvas.drawString(inch, 0.75 * inch, \"Page %d\" % (doc.page))\n",
    "    canvas.restoreState()\n",
    "\n",
    "def myLaterPages(canvas, doc):\n",
    "    canvas.saveState()\n",
    "    canvas.drawImage('OLD_PAPER_TEXTURE.jpg',0,0)\n",
    "    canvas.setFont('SedanSC',9)\n",
    "    canvas.drawString(inch, 0.75 * inch, \"Page %d\" % (doc.page))\n",
    "    canvas.restoreState()\n",
    "\n",
    "\n",
    "\n",
    "character_info_style = TableStyle(\n",
    "    [\n",
    "        ('INNERGRID', (0,0), (-1,-1), 0.25, colors.black),\n",
    "    ]\n",
    ")\n",
    "\n",
    "skill_info_style = TableStyle(\n",
    "    [\n",
    "        ('INNERGRID', (0,0), (-1,-1), 0.25, colors.black),\n",
    "        ('BOX', (0,0), (-1,-1), 0.25, colors.black),\n",
    "    ]\n",
    ")\n",
    "\n",
    "\n",
    "styles[\"Title\"].fontName = 'SedanSC'\n",
    "styles[\"Title\"].fontSize = 10\n",
    "styles[\"Title\"].alignment = TA_LEFT\n",
    "\n",
    "break_style = ParagraphStyle('breakstyle',\n",
    "    fontSize=14,\n",
    "    fontName='SedanSC',\n",
    "    alignment = TA_CENTER\n",
    ")\n",
    "\n",
    "def table_gen(table_data, headers=False, tstyle=character_info_style):\n",
    "    table_data = table_data.map(lambda x:replace_with_emoji_pdf(x, styles['Title'].fontSize) if isinstance(x, str) else str(x))\n",
    "    if headers:\n",
    "        t1 = Table([[Paragraph(col, style=styles['Title']) for col in table_data.columns]] + np.array(table_data.map(lambda x:Paragraph(x, style=styles['Title']))).tolist(), style=tstyle, repeatRows=1)\n",
    "    else:\n",
    "        t1 = Table(np.array(table_data.map(lambda x:Paragraph(x, style=styles['Title']))).tolist(), style=tstyle, repeatRows=1)\n",
    "    return t1\n",
    "t1 = table_gen(player_data)\n",
    "doc = SimpleDocTemplate(\"table.pdf\", pagesize=letter)\n",
    "\n",
    "table_style = TableStyle(\n",
    "    [\n",
    "        ('INNERGRID', (0,0), (-1,-1), 0.25, colors.black),\n",
    "        ('BOX', (0,0), (-1,-1), 0.25, colors.black),\n",
    "        ('SPAN', (0, 0), (0, -1)),\n",
    "        ('ALIGN', (0,0), (-1,-1), 'CENTER'),\n",
    "        ('VALIGN', (0,0), (-1,-1), 'CENTER')\n",
    "    ]\n",
    ")\n",
    "profile = Image(\"Kython.jpg\",width=4*inch,height=4*inch,kind='proportional')\n",
    "logo = Image('🎪 Prismatic Troupe.jpg',width=4*inch,height=2*inch,kind='proportional')\n",
    "\n",
    "data_table = [\n",
    "    [profile, t1], \n",
    "    ['', logo],\n",
    "]\n",
    "final_table = Table(data_table, style=table_style)\n",
    "\n",
    "t2 = table_gen(display_data, headers=True, tstyle=skill_info_style)\n",
    "\n",
    "t3 = table_gen(user_events, headers=True, tstyle=skill_info_style)\n",
    "\n",
    "doc = SimpleDocTemplate(\"character_sheet.pdf\", pagesize=PAGESIZE)\n",
    "Story = [Spacer(1,1*inch)]\n",
    "style = styles[\"Normal\"]\n",
    "Story.append(final_table)\n",
    "Story.append(Spacer(1,1*inch))\n",
    "Story.append(Paragraph('<u>Skills</u>', style=break_style))\n",
    "Story.append(Spacer(1,.5*inch))\n",
    "Story.append(t2)\n",
    "Story.append(Spacer(1,1*inch))\n",
    "Story.append(Paragraph('<u>Events</u>', style=break_style))\n",
    "Story.append(Spacer(1,.5*inch))\n",
    "Story.append(t3)\n",
    "doc.build(Story, onFirstPage=myFirstPage, onLaterPages=myLaterPages)"
   ]
  },
  {
   "cell_type": "code",
   "execution_count": null,
   "metadata": {},
   "outputs": [],
   "source": [
    "faction = \"🎪 Prismatic Troupe\"\n",
    "user_data = db.reference(\"users/\").child('ntdens').get()\n",
    "image_location = user_data['pic_name']\n",
    "bucket = storage.bucket()\n",
    "blob = bucket.blob(image_location)\n",
    "blob.download_to_filename(user_data['pic_name'].split('/')[1])\n",
    "profile_image = user_data['pic_name'].split('/')[1]\n",
    "if faction != \"🧝 Unaffilated\" or \"🤖 NPC\":\n",
    "    blob = bucket.blob(\"faction_logos/{}.jpg\".format(faction))\n",
    "    blob.download_to_filename(faction + '.jpg')\n",
    "    logo_image = faction + '.jpg'\n",
    "else:\n",
    "    blob = bucket.blob(\"faction_logos/la_logo.jpg\".format(faction))\n",
    "    blob.download_to_filename('la_logo.jpg')\n",
    "    logo_image = 'la_logo.jpg'\n"
   ]
  },
  {
   "cell_type": "code",
   "execution_count": 5,
   "metadata": {},
   "outputs": [],
   "source": [
    "import re"
   ]
  },
  {
   "cell_type": "code",
   "execution_count": 6,
   "metadata": {},
   "outputs": [],
   "source": [
    "ky = \"Kython\"\n",
    "test = re.compile(fr\"^{ky}\\.[a-zA-Z]{{3,4}}$\")"
   ]
  },
  {
   "cell_type": "code",
   "execution_count": 8,
   "metadata": {},
   "outputs": [
    {
     "name": "stdout",
     "output_type": "stream",
     "text": [
      "hello\n"
     ]
    }
   ],
   "source": [
    "if test.match(\"Kython.jpg\"):\n",
    "    print('hello')"
   ]
  },
  {
   "cell_type": "code",
   "execution_count": null,
   "metadata": {},
   "outputs": [
    {
     "ename": "RuntimeError",
     "evalue": "Runtime hasn't been created!",
     "output_type": "error",
     "traceback": [
      "\u001b[1;31m---------------------------------------------------------------------------\u001b[0m",
      "\u001b[1;31mRuntimeError\u001b[0m                              Traceback (most recent call last)",
      "Cell \u001b[1;32mIn[24], line 1\u001b[0m\n\u001b[1;32m----> 1\u001b[0m \u001b[38;5;28;01mimport\u001b[39;00m \u001b[38;5;21;01mstreamlit_authenticator\u001b[39;00m \u001b[38;5;28;01mas\u001b[39;00m \u001b[38;5;21;01mstauth\u001b[39;00m\n",
      "File \u001b[1;32mc:\\Users\\Nate\\Code\\.venv\\Lib\\site-packages\\streamlit_authenticator\\__init__.py:15\u001b[0m\n\u001b[0;32m     12\u001b[0m \u001b[38;5;28;01mimport\u001b[39;00m \u001b[38;5;21;01mstreamlit\u001b[39;00m\u001b[38;5;21;01m.\u001b[39;00m\u001b[38;5;21;01mcomponents\u001b[39;00m\u001b[38;5;21;01m.\u001b[39;00m\u001b[38;5;21;01mv1\u001b[39;00m \u001b[38;5;28;01mas\u001b[39;00m \u001b[38;5;21;01mcomponents\u001b[39;00m\n\u001b[0;32m     13\u001b[0m \u001b[38;5;28;01mfrom\u001b[39;00m \u001b[38;5;21;01myaml\u001b[39;00m\u001b[38;5;21;01m.\u001b[39;00m\u001b[38;5;21;01mloader\u001b[39;00m \u001b[38;5;28;01mimport\u001b[39;00m SafeLoader\n\u001b[1;32m---> 15\u001b[0m \u001b[38;5;28;01mfrom\u001b[39;00m \u001b[38;5;21;01m.\u001b[39;00m\u001b[38;5;21;01mauthenticate\u001b[39;00m \u001b[38;5;28;01mimport\u001b[39;00m Authenticate\n\u001b[0;32m     16\u001b[0m \u001b[38;5;28;01mfrom\u001b[39;00m \u001b[38;5;21;01m.\u001b[39;00m\u001b[38;5;21;01mutilities\u001b[39;00m\u001b[38;5;21;01m.\u001b[39;00m\u001b[38;5;21;01mexceptions\u001b[39;00m \u001b[38;5;28;01mimport\u001b[39;00m (CredentialsError,\n\u001b[0;32m     17\u001b[0m                                   ForgotError,\n\u001b[0;32m     18\u001b[0m                                   LoginError,\n\u001b[0;32m     19\u001b[0m                                   RegisterError,\n\u001b[0;32m     20\u001b[0m                                   ResetError,\n\u001b[0;32m     21\u001b[0m                                   UpdateError)\n\u001b[0;32m     23\u001b[0m _RELEASE \u001b[38;5;241m=\u001b[39m \u001b[38;5;28;01mTrue\u001b[39;00m\n",
      "File \u001b[1;32mc:\\Users\\Nate\\Code\\.venv\\Lib\\site-packages\\streamlit_authenticator\\authenticate\\__init__.py:19\u001b[0m\n\u001b[0;32m     16\u001b[0m \u001b[38;5;28;01mfrom\u001b[39;00m \u001b[38;5;21;01m.\u001b[39;00m\u001b[38;5;21;01m.\u001b[39;00m\u001b[38;5;21;01mutilities\u001b[39;00m\u001b[38;5;21;01m.\u001b[39;00m\u001b[38;5;21;01mvalidator\u001b[39;00m \u001b[38;5;28;01mimport\u001b[39;00m Validator\n\u001b[0;32m     17\u001b[0m \u001b[38;5;28;01mfrom\u001b[39;00m \u001b[38;5;21;01m.\u001b[39;00m\u001b[38;5;21;01m.\u001b[39;00m\u001b[38;5;21;01mutilities\u001b[39;00m\u001b[38;5;21;01m.\u001b[39;00m\u001b[38;5;21;01mexceptions\u001b[39;00m \u001b[38;5;28;01mimport\u001b[39;00m DeprecationError\n\u001b[1;32m---> 19\u001b[0m \u001b[38;5;28;01mfrom\u001b[39;00m \u001b[38;5;21;01m.\u001b[39;00m\u001b[38;5;21;01mcookie\u001b[39;00m \u001b[38;5;28;01mimport\u001b[39;00m CookieHandler\n\u001b[0;32m     20\u001b[0m \u001b[38;5;28;01mfrom\u001b[39;00m \u001b[38;5;21;01m.\u001b[39;00m\u001b[38;5;21;01mauthentication\u001b[39;00m \u001b[38;5;28;01mimport\u001b[39;00m AuthenticationHandler\n\u001b[0;32m     22\u001b[0m \u001b[38;5;28;01mclass\u001b[39;00m \u001b[38;5;21;01mAuthenticate\u001b[39;00m:\n",
      "File \u001b[1;32mc:\\Users\\Nate\\Code\\.venv\\Lib\\site-packages\\streamlit_authenticator\\authenticate\\cookie\\__init__.py:15\u001b[0m\n\u001b[0;32m     13\u001b[0m \u001b[38;5;28;01mfrom\u001b[39;00m \u001b[38;5;21;01mjwt\u001b[39;00m \u001b[38;5;28;01mimport\u001b[39;00m DecodeError, InvalidSignatureError\n\u001b[0;32m     14\u001b[0m \u001b[38;5;28;01mimport\u001b[39;00m \u001b[38;5;21;01mstreamlit\u001b[39;00m \u001b[38;5;28;01mas\u001b[39;00m \u001b[38;5;21;01mst\u001b[39;00m\n\u001b[1;32m---> 15\u001b[0m \u001b[38;5;28;01mimport\u001b[39;00m \u001b[38;5;21;01mextra_streamlit_components\u001b[39;00m \u001b[38;5;28;01mas\u001b[39;00m \u001b[38;5;21;01mstx\u001b[39;00m\n\u001b[0;32m     17\u001b[0m \u001b[38;5;28;01mclass\u001b[39;00m \u001b[38;5;21;01mCookieHandler\u001b[39;00m:\n\u001b[0;32m     18\u001b[0m \u001b[38;5;250m    \u001b[39m\u001b[38;5;124;03m\"\"\"\u001b[39;00m\n\u001b[0;32m     19\u001b[0m \u001b[38;5;124;03m    This class will execute all actions related to the re-authentication cookie, \u001b[39;00m\n\u001b[0;32m     20\u001b[0m \u001b[38;5;124;03m    including retrieving, deleting, and setting the cookie.\u001b[39;00m\n\u001b[0;32m     21\u001b[0m \u001b[38;5;124;03m    \"\"\"\u001b[39;00m\n",
      "File \u001b[1;32mc:\\Users\\Nate\\Code\\.venv\\Lib\\site-packages\\extra_streamlit_components\\__init__.py:3\u001b[0m\n\u001b[0;32m      1\u001b[0m IS_RELEASE \u001b[38;5;241m=\u001b[39m \u001b[38;5;28;01mTrue\u001b[39;00m\n\u001b[1;32m----> 3\u001b[0m \u001b[38;5;28;01mfrom\u001b[39;00m \u001b[38;5;21;01m.\u001b[39;00m\u001b[38;5;21;01mTabBar\u001b[39;00m \u001b[38;5;28;01mimport\u001b[39;00m tab_bar\n\u001b[0;32m      4\u001b[0m \u001b[38;5;28;01mfrom\u001b[39;00m \u001b[38;5;21;01m.\u001b[39;00m\u001b[38;5;21;01mTabBar\u001b[39;00m \u001b[38;5;28;01mimport\u001b[39;00m TabBarItemData\n\u001b[0;32m      5\u001b[0m \u001b[38;5;28;01mfrom\u001b[39;00m \u001b[38;5;21;01m.\u001b[39;00m\u001b[38;5;21;01mBouncingImage\u001b[39;00m \u001b[38;5;28;01mimport\u001b[39;00m bouncing_image\n",
      "File \u001b[1;32mc:\\Users\\Nate\\Code\\.venv\\Lib\\site-packages\\extra_streamlit_components\\TabBar\\__init__.py:10\u001b[0m\n\u001b[0;32m      8\u001b[0m     absolute_path \u001b[38;5;241m=\u001b[39m os\u001b[38;5;241m.\u001b[39mpath\u001b[38;5;241m.\u001b[39mdirname(os\u001b[38;5;241m.\u001b[39mpath\u001b[38;5;241m.\u001b[39mabspath(\u001b[38;5;18m__file__\u001b[39m))\n\u001b[0;32m      9\u001b[0m     build_path \u001b[38;5;241m=\u001b[39m os\u001b[38;5;241m.\u001b[39mpath\u001b[38;5;241m.\u001b[39mjoin(absolute_path, \u001b[38;5;124m\"\u001b[39m\u001b[38;5;124mfrontend/build\u001b[39m\u001b[38;5;124m\"\u001b[39m)\n\u001b[1;32m---> 10\u001b[0m     _component_func \u001b[38;5;241m=\u001b[39m \u001b[43mcomponents\u001b[49m\u001b[38;5;241;43m.\u001b[39;49m\u001b[43mdeclare_component\u001b[49m\u001b[43m(\u001b[49m\u001b[38;5;124;43m\"\u001b[39;49m\u001b[38;5;124;43mtab_bar\u001b[39;49m\u001b[38;5;124;43m\"\u001b[39;49m\u001b[43m,\u001b[49m\u001b[43m \u001b[49m\u001b[43mpath\u001b[49m\u001b[38;5;241;43m=\u001b[39;49m\u001b[43mbuild_path\u001b[49m\u001b[43m)\u001b[49m\n\u001b[0;32m     11\u001b[0m \u001b[38;5;28;01melse\u001b[39;00m:\n\u001b[0;32m     12\u001b[0m     _component_func \u001b[38;5;241m=\u001b[39m components\u001b[38;5;241m.\u001b[39mdeclare_component(\u001b[38;5;124m\"\u001b[39m\u001b[38;5;124mtab_bar\u001b[39m\u001b[38;5;124m\"\u001b[39m, url\u001b[38;5;241m=\u001b[39m\u001b[38;5;124m\"\u001b[39m\u001b[38;5;124mhttp://localhost:3001\u001b[39m\u001b[38;5;124m\"\u001b[39m)\n",
      "File \u001b[1;32mc:\\Users\\Nate\\Code\\.venv\\Lib\\site-packages\\streamlit\\components\\v1\\component_registry.py:87\u001b[0m, in \u001b[0;36mdeclare_component\u001b[1;34m(name, path, url)\u001b[0m\n\u001b[0;32m     83\u001b[0m \u001b[38;5;66;03m# Create our component object, and register it.\u001b[39;00m\n\u001b[0;32m     84\u001b[0m component \u001b[38;5;241m=\u001b[39m CustomComponent(\n\u001b[0;32m     85\u001b[0m     name\u001b[38;5;241m=\u001b[39mcomponent_name, path\u001b[38;5;241m=\u001b[39mpath, url\u001b[38;5;241m=\u001b[39murl, module_name\u001b[38;5;241m=\u001b[39mmodule_name\n\u001b[0;32m     86\u001b[0m )\n\u001b[1;32m---> 87\u001b[0m \u001b[43mget_instance\u001b[49m\u001b[43m(\u001b[49m\u001b[43m)\u001b[49m\u001b[38;5;241m.\u001b[39mcomponent_registry\u001b[38;5;241m.\u001b[39mregister_component(component)\n\u001b[0;32m     89\u001b[0m \u001b[38;5;28;01mreturn\u001b[39;00m component\n",
      "File \u001b[1;32mc:\\Users\\Nate\\Code\\.venv\\Lib\\site-packages\\streamlit\\runtime\\__init__.py:28\u001b[0m, in \u001b[0;36mget_instance\u001b[1;34m()\u001b[0m\n\u001b[0;32m     24\u001b[0m \u001b[38;5;28;01mdef\u001b[39;00m \u001b[38;5;21mget_instance\u001b[39m() \u001b[38;5;241m-\u001b[39m\u001b[38;5;241m>\u001b[39m Runtime:\n\u001b[0;32m     25\u001b[0m \u001b[38;5;250m    \u001b[39m\u001b[38;5;124;03m\"\"\"Return the singleton Runtime instance. Raise an Error if the\u001b[39;00m\n\u001b[0;32m     26\u001b[0m \u001b[38;5;124;03m    Runtime hasn't been created yet.\u001b[39;00m\n\u001b[0;32m     27\u001b[0m \u001b[38;5;124;03m    \"\"\"\u001b[39;00m\n\u001b[1;32m---> 28\u001b[0m     \u001b[38;5;28;01mreturn\u001b[39;00m \u001b[43mRuntime\u001b[49m\u001b[38;5;241;43m.\u001b[39;49m\u001b[43minstance\u001b[49m\u001b[43m(\u001b[49m\u001b[43m)\u001b[49m\n",
      "File \u001b[1;32mc:\\Users\\Nate\\Code\\.venv\\Lib\\site-packages\\streamlit\\runtime\\runtime.py:163\u001b[0m, in \u001b[0;36mRuntime.instance\u001b[1;34m(cls)\u001b[0m\n\u001b[0;32m    159\u001b[0m \u001b[38;5;250m\u001b[39m\u001b[38;5;124;03m\"\"\"Return the singleton Runtime instance. Raise an Error if the\u001b[39;00m\n\u001b[0;32m    160\u001b[0m \u001b[38;5;124;03mRuntime hasn't been created yet.\u001b[39;00m\n\u001b[0;32m    161\u001b[0m \u001b[38;5;124;03m\"\"\"\u001b[39;00m\n\u001b[0;32m    162\u001b[0m \u001b[38;5;28;01mif\u001b[39;00m \u001b[38;5;28mcls\u001b[39m\u001b[38;5;241m.\u001b[39m_instance \u001b[38;5;129;01mis\u001b[39;00m \u001b[38;5;28;01mNone\u001b[39;00m:\n\u001b[1;32m--> 163\u001b[0m     \u001b[38;5;28;01mraise\u001b[39;00m \u001b[38;5;167;01mRuntimeError\u001b[39;00m(\u001b[38;5;124m\"\u001b[39m\u001b[38;5;124mRuntime hasn\u001b[39m\u001b[38;5;124m'\u001b[39m\u001b[38;5;124mt been created!\u001b[39m\u001b[38;5;124m\"\u001b[39m)\n\u001b[0;32m    164\u001b[0m \u001b[38;5;28;01mreturn\u001b[39;00m \u001b[38;5;28mcls\u001b[39m\u001b[38;5;241m.\u001b[39m_instance\n",
      "\u001b[1;31mRuntimeError\u001b[0m: Runtime hasn't been created!"
     ]
    }
   ],
   "source": [
    "import streamlit_authenticator as stauth"
   ]
  },
  {
   "cell_type": "code",
   "execution_count": null,
   "metadata": {},
   "outputs": [],
   "source": []
  }
 ],
 "metadata": {
  "kernelspec": {
   "display_name": ".venv",
   "language": "python",
   "name": "python3"
  },
  "language_info": {
   "codemirror_mode": {
    "name": "ipython",
    "version": 3
   },
   "file_extension": ".py",
   "mimetype": "text/x-python",
   "name": "python",
   "nbconvert_exporter": "python",
   "pygments_lexer": "ipython3",
   "version": "3.11.9"
  }
 },
 "nbformat": 4,
 "nbformat_minor": 2
}
