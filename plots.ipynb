{
 "cells": [
  {
   "cell_type": "code",
   "execution_count": 9,
   "metadata": {},
   "outputs": [],
   "source": [
    "import firebase_admin\n",
    "from firebase_admin import credentials, db, storage\n",
    "from math import floor, sqrt\n",
    "import ast\n",
    "import smtplib\n",
    "import plotly.express as px\n",
    "import pandas as pd\n",
    "import json\n",
    "import streamlit as st\n",
    "import plotly.graph_objects as go"
   ]
  },
  {
   "cell_type": "code",
   "execution_count": 2,
   "metadata": {},
   "outputs": [],
   "source": [
    "faction_list = [\n",
    "    \"🧝 Unaffilated\",\n",
    "    \"🏴 Blackthorne Company\",\n",
    "    \"💰 Guild of the Black Sky\",\n",
    "    \"🛡 Eponore\",\n",
    "    \"⚜️ Catalpa\",\n",
    "    \"🍷 Cedar Hill\",\n",
    "    \"🧛‍♂️ The Dismissed\",\n",
    "    \"💀 Geth\",\n",
    "    \"❄️ Grimfrost\",\n",
    "    \"🌳 The Grove\",\n",
    "    \"🌙 The Irregulars\",\n",
    "    \"⚖️ The Order\",\n",
    "    \"🎪 Prismatic Troupe\",\n",
    "    \"⚔️ Sunsteel Company\",\n",
    "    \"🦁 Kult of Tharros\",\n",
    "    \"🐴 Vidarian Khanate\",\n",
    "    \"🏹 The Wardens\",\n",
    "    \"🕊️ The White Ravens \"\n",
    "]\n",
    "\n",
    "path_list = [\n",
    "    '🗡 Warrior',\n",
    "    '🪤 Rogue',\n",
    "    '🩹 Healer',\n",
    "    '🔮 Wizard'\n",
    "]\n",
    "\n",
    "def get_tier(events):\n",
    "    return floor((sqrt(8*events)-1)/2)\n",
    "\n",
    "if not firebase_admin._apps:\n",
    "    key_dict = json.loads(st.secrets[\"firebase\"], strict=False)\n",
    "    creds = credentials.Certificate(key_dict)\n",
    "    defualt_app = firebase_admin.initialize_app(creds, {\n",
    "        'databaseURL': 'https://la-character-sheets-default-rtdb.firebaseio.com',\n",
    "        'storageBucket':'la-character-sheets.appspot.com'\n",
    "    })"
   ]
  },
  {
   "cell_type": "code",
   "execution_count": 82,
   "metadata": {},
   "outputs": [],
   "source": [
    "user_data = db.reference(\"users/\").get()\n",
    "user_table = []\n",
    "for key in user_data.keys():\n",
    "    try:\n",
    "        user_events = pd.DataFrame(json.loads(user_data[key]['event_info']))\n",
    "        user_events.reset_index(drop=True, inplace=True)\n",
    "        tier = get_tier(len(user_events[user_events['Event Type'] != \"🪚 Work Weekend\"]))\n",
    "        skill_points = int(user_events[\"Skill Points\"].sum())\n",
    "        try:\n",
    "            avail_points = int(user_events[\"Skill Points\"].sum()) - int(user_data[key]['point_spend'])\n",
    "        except:\n",
    "            avail_points = skill_points\n",
    "    except:\n",
    "        skill_points = 0\n",
    "        tier = 0\n",
    "        avail_points = skill_points\n",
    "\n",
    "    user_table.append({\n",
    "        'Username':key,\n",
    "        'Player':user_data[key]['name'],\n",
    "        'Character':user_data[key]['character_name'],\n",
    "        'Faction':user_data[key]['faction'],\n",
    "        'Path':user_data[key]['path'],\n",
    "        'Tier':tier,\n",
    "        'Earned Points':skill_points,\n",
    "        \"Available Points\":avail_points\n",
    "    })\n",
    "user_df = pd.DataFrame(user_table)"
   ]
  },
  {
   "cell_type": "code",
   "execution_count": 4,
   "metadata": {},
   "outputs": [
    {
     "data": {
      "text/html": [
       "<div>\n",
       "<style scoped>\n",
       "    .dataframe tbody tr th:only-of-type {\n",
       "        vertical-align: middle;\n",
       "    }\n",
       "\n",
       "    .dataframe tbody tr th {\n",
       "        vertical-align: top;\n",
       "    }\n",
       "\n",
       "    .dataframe thead th {\n",
       "        text-align: right;\n",
       "    }\n",
       "</style>\n",
       "<table border=\"1\" class=\"dataframe\">\n",
       "  <thead>\n",
       "    <tr style=\"text-align: right;\">\n",
       "      <th></th>\n",
       "      <th>Username</th>\n",
       "      <th>Player</th>\n",
       "      <th>Character</th>\n",
       "      <th>Faction</th>\n",
       "      <th>Path</th>\n",
       "      <th>Tier</th>\n",
       "      <th>Earned Points</th>\n",
       "      <th>Available Points</th>\n",
       "    </tr>\n",
       "  </thead>\n",
       "  <tbody>\n",
       "    <tr>\n",
       "      <th>0</th>\n",
       "      <td>caenis_macneary</td>\n",
       "      <td>Niki Hunter</td>\n",
       "      <td>Caenis MacNeary</td>\n",
       "      <td>🎪 Prismatic Troupe</td>\n",
       "      <td>🗡 Warrior</td>\n",
       "      <td>4</td>\n",
       "      <td>28</td>\n",
       "      <td>0</td>\n",
       "    </tr>\n",
       "    <tr>\n",
       "      <th>1</th>\n",
       "      <td>ghostfox</td>\n",
       "      <td>Kara</td>\n",
       "      <td>Elora</td>\n",
       "      <td>🎪 Prismatic Troupe</td>\n",
       "      <td>🕳 Rogue</td>\n",
       "      <td>0</td>\n",
       "      <td>1</td>\n",
       "      <td>1</td>\n",
       "    </tr>\n",
       "    <tr>\n",
       "      <th>2</th>\n",
       "      <td>ntdens</td>\n",
       "      <td>Nate Densmore</td>\n",
       "      <td>Kython</td>\n",
       "      <td>🎪 Prismatic Troupe</td>\n",
       "      <td>🩸 Healer</td>\n",
       "      <td>5</td>\n",
       "      <td>43</td>\n",
       "      <td>11</td>\n",
       "    </tr>\n",
       "  </tbody>\n",
       "</table>\n",
       "</div>"
      ],
      "text/plain": [
       "          Username         Player        Character             Faction  \\\n",
       "0  caenis_macneary    Niki Hunter  Caenis MacNeary  🎪 Prismatic Troupe   \n",
       "1         ghostfox           Kara            Elora  🎪 Prismatic Troupe   \n",
       "2           ntdens  Nate Densmore           Kython  🎪 Prismatic Troupe   \n",
       "\n",
       "        Path  Tier  Earned Points  Available Points  \n",
       "0  🗡 Warrior     4             28                 0  \n",
       "1    🕳 Rogue     0              1                 1  \n",
       "2   🩸 Healer     5             43                11  "
      ]
     },
     "execution_count": 4,
     "metadata": {},
     "output_type": "execute_result"
    }
   ],
   "source": [
    "user_df"
   ]
  },
  {
   "cell_type": "code",
   "execution_count": 10,
   "metadata": {},
   "outputs": [
    {
     "data": {
      "application/vnd.plotly.v1+json": {
       "config": {
        "plotlyServerURL": "https://plot.ly"
       },
       "data": [
        {
         "type": "bar",
         "x": [
          0,
          1,
          2,
          3,
          4,
          5,
          6,
          7,
          8,
          9,
          10
         ],
         "y": [
          1,
          0,
          0,
          0,
          1,
          1,
          0,
          0,
          0,
          0,
          0
         ]
        }
       ],
       "layout": {
        "template": {
         "data": {
          "candlestick": [
           {
            "decreasing": {
             "line": {
              "color": "#000033"
             }
            },
            "increasing": {
             "line": {
              "color": "#000032"
             }
            },
            "type": "candlestick"
           }
          ],
          "contour": [
           {
            "colorscale": [
             [
              0,
              "#000011"
             ],
             [
              0.1111111111111111,
              "#000012"
             ],
             [
              0.2222222222222222,
              "#000013"
             ],
             [
              0.3333333333333333,
              "#000014"
             ],
             [
              0.4444444444444444,
              "#000015"
             ],
             [
              0.5555555555555556,
              "#000016"
             ],
             [
              0.6666666666666666,
              "#000017"
             ],
             [
              0.7777777777777778,
              "#000018"
             ],
             [
              0.8888888888888888,
              "#000019"
             ],
             [
              1,
              "#000020"
             ]
            ],
            "type": "contour"
           }
          ],
          "contourcarpet": [
           {
            "colorscale": [
             [
              0,
              "#000011"
             ],
             [
              0.1111111111111111,
              "#000012"
             ],
             [
              0.2222222222222222,
              "#000013"
             ],
             [
              0.3333333333333333,
              "#000014"
             ],
             [
              0.4444444444444444,
              "#000015"
             ],
             [
              0.5555555555555556,
              "#000016"
             ],
             [
              0.6666666666666666,
              "#000017"
             ],
             [
              0.7777777777777778,
              "#000018"
             ],
             [
              0.8888888888888888,
              "#000019"
             ],
             [
              1,
              "#000020"
             ]
            ],
            "type": "contourcarpet"
           }
          ],
          "heatmap": [
           {
            "colorscale": [
             [
              0,
              "#000011"
             ],
             [
              0.1111111111111111,
              "#000012"
             ],
             [
              0.2222222222222222,
              "#000013"
             ],
             [
              0.3333333333333333,
              "#000014"
             ],
             [
              0.4444444444444444,
              "#000015"
             ],
             [
              0.5555555555555556,
              "#000016"
             ],
             [
              0.6666666666666666,
              "#000017"
             ],
             [
              0.7777777777777778,
              "#000018"
             ],
             [
              0.8888888888888888,
              "#000019"
             ],
             [
              1,
              "#000020"
             ]
            ],
            "type": "heatmap"
           }
          ],
          "histogram2d": [
           {
            "colorscale": [
             [
              0,
              "#000011"
             ],
             [
              0.1111111111111111,
              "#000012"
             ],
             [
              0.2222222222222222,
              "#000013"
             ],
             [
              0.3333333333333333,
              "#000014"
             ],
             [
              0.4444444444444444,
              "#000015"
             ],
             [
              0.5555555555555556,
              "#000016"
             ],
             [
              0.6666666666666666,
              "#000017"
             ],
             [
              0.7777777777777778,
              "#000018"
             ],
             [
              0.8888888888888888,
              "#000019"
             ],
             [
              1,
              "#000020"
             ]
            ],
            "type": "histogram2d"
           }
          ],
          "icicle": [
           {
            "textfont": {
             "color": "white"
            },
            "type": "icicle"
           }
          ],
          "sankey": [
           {
            "textfont": {
             "color": "#000036"
            },
            "type": "sankey"
           }
          ],
          "scatter": [
           {
            "marker": {
             "line": {
              "width": 0
             }
            },
            "type": "scatter"
           }
          ],
          "table": [
           {
            "cells": {
             "fill": {
              "color": "#000038"
             },
             "font": {
              "color": "#000037"
             },
             "line": {
              "color": "#000039"
             }
            },
            "header": {
             "fill": {
              "color": "#000040"
             },
             "font": {
              "color": "#000036"
             },
             "line": {
              "color": "#000039"
             }
            },
            "type": "table"
           }
          ],
          "waterfall": [
           {
            "connector": {
             "line": {
              "color": "#000036",
              "width": 2
             }
            },
            "decreasing": {
             "marker": {
              "color": "#000033"
             }
            },
            "increasing": {
             "marker": {
              "color": "#000032"
             }
            },
            "totals": {
             "marker": {
              "color": "#000034"
             }
            },
            "type": "waterfall"
           }
          ]
         },
         "layout": {
          "coloraxis": {
           "colorscale": [
            [
             0,
             "#000011"
            ],
            [
             0.1111111111111111,
             "#000012"
            ],
            [
             0.2222222222222222,
             "#000013"
            ],
            [
             0.3333333333333333,
             "#000014"
            ],
            [
             0.4444444444444444,
             "#000015"
            ],
            [
             0.5555555555555556,
             "#000016"
            ],
            [
             0.6666666666666666,
             "#000017"
            ],
            [
             0.7777777777777778,
             "#000018"
            ],
            [
             0.8888888888888888,
             "#000019"
            ],
            [
             1,
             "#000020"
            ]
           ]
          },
          "colorscale": {
           "diverging": [
            [
             0,
             "#000021"
            ],
            [
             0.1,
             "#000022"
            ],
            [
             0.2,
             "#000023"
            ],
            [
             0.3,
             "#000024"
            ],
            [
             0.4,
             "#000025"
            ],
            [
             0.5,
             "#000026"
            ],
            [
             0.6,
             "#000027"
            ],
            [
             0.7,
             "#000028"
            ],
            [
             0.8,
             "#000029"
            ],
            [
             0.9,
             "#000030"
            ],
            [
             1,
             "#000031"
            ]
           ],
           "sequential": [
            [
             0,
             "#000011"
            ],
            [
             0.1111111111111111,
             "#000012"
            ],
            [
             0.2222222222222222,
             "#000013"
            ],
            [
             0.3333333333333333,
             "#000014"
            ],
            [
             0.4444444444444444,
             "#000015"
            ],
            [
             0.5555555555555556,
             "#000016"
            ],
            [
             0.6666666666666666,
             "#000017"
            ],
            [
             0.7777777777777778,
             "#000018"
            ],
            [
             0.8888888888888888,
             "#000019"
            ],
            [
             1,
             "#000020"
            ]
           ],
           "sequentialminus": [
            [
             0,
             "#000011"
            ],
            [
             0.1111111111111111,
             "#000012"
            ],
            [
             0.2222222222222222,
             "#000013"
            ],
            [
             0.3333333333333333,
             "#000014"
            ],
            [
             0.4444444444444444,
             "#000015"
            ],
            [
             0.5555555555555556,
             "#000016"
            ],
            [
             0.6666666666666666,
             "#000017"
            ],
            [
             0.7777777777777778,
             "#000018"
            ],
            [
             0.8888888888888888,
             "#000019"
            ],
            [
             1,
             "#000020"
            ]
           ]
          },
          "colorway": [
           "#000001",
           "#000002",
           "#000003",
           "#000004",
           "#000005",
           "#000006",
           "#000007",
           "#000008",
           "#000009",
           "#000010"
          ]
         }
        }
       }
      }
     },
     "metadata": {},
     "output_type": "display_data"
    }
   ],
   "source": [
    "tier_df = user_df.groupby('Tier').count()['Username']\n",
    "tier_list = pd.DataFrame({'Tier':list(range(0,11))})\n",
    "tier_df = tier_list.merge(tier_df, how='left', on='Tier').fillna(0).rename(columns={'Username':'Players'})\n",
    "go.Figure(go.Bar(x=tier_df['Tier'], y=tier_df['Players']))"
   ]
  },
  {
   "cell_type": "code",
   "execution_count": 51,
   "metadata": {},
   "outputs": [],
   "source": [
    "player_events = []\n",
    "for player in user_df['Username']:\n",
    "    try:\n",
    "        user_events = pd.DataFrame(json.loads(user_data[player]['event_info']))\n",
    "        user_events.reset_index(drop=True, inplace=True)\n",
    "        user_events = user_events[user_events['Event Type'] != \"🪚 Work Weekend\"]\n",
    "        try:\n",
    "            user_events['Event Date'] = pd.to_datetime(user_events['Event Date'], format=\"%B %Y\")\n",
    "        except:\n",
    "            pass\n",
    "        try:\n",
    "            user_events['Event Date'] = pd.to_datetime(user_events['Event Date'], unit='ms')\n",
    "        except:\n",
    "            pass\n",
    "        player_events.append(pd.DataFrame({'Date':list(user_events['Event Date']),'Player':player}))\n",
    "    except:\n",
    "        pass"
   ]
  },
  {
   "cell_type": "code",
   "execution_count": 52,
   "metadata": {},
   "outputs": [],
   "source": [
    "attend = pd.concat(player_events)\n",
    "attend['Date'] = attend.Date - pd.offsets.MonthEnd(0) - pd.offsets.MonthBegin(1)\n",
    "attend = attend.groupby('Date').count().reset_index()\n",
    "px.line(attend, x='Date', y='Player', title='Attendance Over Time')"
   ]
  },
  {
   "cell_type": "code",
   "execution_count": 74,
   "metadata": {},
   "outputs": [],
   "source": [
    "bucket = storage.bucket()"
   ]
  },
  {
   "cell_type": "code",
   "execution_count": 75,
   "metadata": {},
   "outputs": [],
   "source": [
    "blob = bucket.blob('ntdens')"
   ]
  },
  {
   "cell_type": "code",
   "execution_count": 85,
   "metadata": {},
   "outputs": [
    {
     "name": "stdout",
     "output_type": "stream",
     "text": [
      "ntdens/profile_pic.jpg\n",
      "ntdens/profile_pic.png\n"
     ]
    }
   ],
   "source": []
  },
  {
   "cell_type": "code",
   "execution_count": 83,
   "metadata": {},
   "outputs": [],
   "source": [
    "image_location = user_data['ntdens']['pic_name']"
   ]
  },
  {
   "cell_type": "code",
   "execution_count": 84,
   "metadata": {},
   "outputs": [
    {
     "data": {
      "text/plain": [
       "'ntdens/profile_pic.png'"
      ]
     },
     "execution_count": 84,
     "metadata": {},
     "output_type": "execute_result"
    }
   ],
   "source": [
    "image_location"
   ]
  },
  {
   "cell_type": "code",
   "execution_count": 86,
   "metadata": {},
   "outputs": [],
   "source": [
    "for b in bucket.list_blobs(prefix='ntdens'):\n",
    "    if b.name != image_location:\n",
    "        b.delete()"
   ]
  },
  {
   "cell_type": "code",
   "execution_count": 91,
   "metadata": {},
   "outputs": [
    {
     "data": {
      "text/plain": [
       "['ntdens', 'caenis_macneary']"
      ]
     },
     "execution_count": 91,
     "metadata": {},
     "output_type": "execute_result"
    }
   ],
   "source": [
    "(st.secrets['admins'] + list(st.secrets['faction_leaders']))"
   ]
  },
  {
   "cell_type": "code",
   "execution_count": null,
   "metadata": {},
   "outputs": [],
   "source": []
  }
 ],
 "metadata": {
  "kernelspec": {
   "display_name": ".venv",
   "language": "python",
   "name": "python3"
  },
  "language_info": {
   "codemirror_mode": {
    "name": "ipython",
    "version": 3
   },
   "file_extension": ".py",
   "mimetype": "text/x-python",
   "name": "python",
   "nbconvert_exporter": "python",
   "pygments_lexer": "ipython3",
   "version": "3.11.9"
  }
 },
 "nbformat": 4,
 "nbformat_minor": 2
}
